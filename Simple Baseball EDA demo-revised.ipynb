{
 "cells": [
  {
   "cell_type": "markdown",
   "metadata": {},
   "source": [
    "# Statcast  Exploratory Data Analysis and Viz"
   ]
  },
  {
   "cell_type": "markdown",
   "metadata": {},
   "source": [
    "### First, collect pitch-level data in 2019(from 03-28 to 07-27) from Statcast"
   ]
  },
  {
   "cell_type": "code",
   "execution_count": 18,
   "metadata": {},
   "outputs": [],
   "source": [
    "from baseball_scraper import statcast"
   ]
  },
  {
   "cell_type": "code",
   "execution_count": 19,
   "metadata": {},
   "outputs": [
    {
     "name": "stdout",
     "output_type": "stream",
     "text": [
      "This is a large query, it may take a moment to complete\n",
      "Completed sub-query from 2019-03-28 to 2019-04-02\n",
      "Completed sub-query from 2019-04-03 to 2019-04-08\n",
      "Completed sub-query from 2019-04-09 to 2019-04-14\n",
      "Completed sub-query from 2019-04-15 to 2019-04-20\n",
      "Completed sub-query from 2019-04-21 to 2019-04-26\n",
      "Completed sub-query from 2019-04-27 to 2019-05-02\n",
      "Completed sub-query from 2019-05-03 to 2019-05-08\n",
      "Completed sub-query from 2019-05-09 to 2019-05-14\n",
      "Completed sub-query from 2019-05-15 to 2019-05-20\n",
      "Completed sub-query from 2019-05-21 to 2019-05-26\n",
      "Completed sub-query from 2019-05-27 to 2019-06-01\n",
      "Completed sub-query from 2019-06-02 to 2019-06-07\n",
      "Completed sub-query from 2019-06-08 to 2019-06-13\n",
      "Completed sub-query from 2019-06-14 to 2019-06-19\n",
      "Completed sub-query from 2019-06-20 to 2019-06-25\n",
      "Completed sub-query from 2019-06-26 to 2019-07-01\n",
      "Completed sub-query from 2019-07-02 to 2019-07-07\n",
      "Completed sub-query from 2019-07-08 to 2019-07-13\n",
      "Completed sub-query from 2019-07-14 to 2019-07-19\n",
      "Completed sub-query from 2019-07-20 to 2019-07-25\n",
      "Completed sub-query from 2019-07-26 to 2019-07-27\n"
     ]
    }
   ],
   "source": [
    "data = statcast(start_dt='2019-03-28', end_dt='2019-07-27')"
   ]
  },
  {
   "cell_type": "code",
   "execution_count": 20,
   "metadata": {},
   "outputs": [
    {
     "data": {
      "text/html": [
       "<div>\n",
       "<style scoped>\n",
       "    .dataframe tbody tr th:only-of-type {\n",
       "        vertical-align: middle;\n",
       "    }\n",
       "\n",
       "    .dataframe tbody tr th {\n",
       "        vertical-align: top;\n",
       "    }\n",
       "\n",
       "    .dataframe thead th {\n",
       "        text-align: right;\n",
       "    }\n",
       "</style>\n",
       "<table border=\"1\" class=\"dataframe\">\n",
       "  <thead>\n",
       "    <tr style=\"text-align: right;\">\n",
       "      <th></th>\n",
       "      <th>index</th>\n",
       "      <th>pitch_type</th>\n",
       "      <th>game_date</th>\n",
       "      <th>release_speed</th>\n",
       "      <th>release_pos_x</th>\n",
       "      <th>release_pos_z</th>\n",
       "      <th>player_name</th>\n",
       "      <th>batter</th>\n",
       "      <th>pitcher</th>\n",
       "      <th>events</th>\n",
       "      <th>...</th>\n",
       "      <th>home_score</th>\n",
       "      <th>away_score</th>\n",
       "      <th>bat_score</th>\n",
       "      <th>fld_score</th>\n",
       "      <th>post_away_score</th>\n",
       "      <th>post_home_score</th>\n",
       "      <th>post_bat_score</th>\n",
       "      <th>post_fld_score</th>\n",
       "      <th>if_fielding_alignment</th>\n",
       "      <th>of_fielding_alignment</th>\n",
       "    </tr>\n",
       "  </thead>\n",
       "  <tbody>\n",
       "    <tr>\n",
       "      <th>0</th>\n",
       "      <td>124</td>\n",
       "      <td>FF</td>\n",
       "      <td>2019-07-26</td>\n",
       "      <td>97.9</td>\n",
       "      <td>2.9425</td>\n",
       "      <td>5.3351</td>\n",
       "      <td>Josh Hader</td>\n",
       "      <td>595879.0</td>\n",
       "      <td>623352.0</td>\n",
       "      <td>strikeout</td>\n",
       "      <td>...</td>\n",
       "      <td>3.0</td>\n",
       "      <td>2.0</td>\n",
       "      <td>2.0</td>\n",
       "      <td>3.0</td>\n",
       "      <td>2.0</td>\n",
       "      <td>3.0</td>\n",
       "      <td>2.0</td>\n",
       "      <td>3.0</td>\n",
       "      <td>Infield shift</td>\n",
       "      <td>Standard</td>\n",
       "    </tr>\n",
       "    <tr>\n",
       "      <th>1</th>\n",
       "      <td>133</td>\n",
       "      <td>FF</td>\n",
       "      <td>2019-07-26</td>\n",
       "      <td>95.8</td>\n",
       "      <td>3.0121</td>\n",
       "      <td>5.1484</td>\n",
       "      <td>Josh Hader</td>\n",
       "      <td>595879.0</td>\n",
       "      <td>623352.0</td>\n",
       "      <td>NaN</td>\n",
       "      <td>...</td>\n",
       "      <td>3.0</td>\n",
       "      <td>2.0</td>\n",
       "      <td>2.0</td>\n",
       "      <td>3.0</td>\n",
       "      <td>2.0</td>\n",
       "      <td>3.0</td>\n",
       "      <td>2.0</td>\n",
       "      <td>3.0</td>\n",
       "      <td>Infield shift</td>\n",
       "      <td>Standard</td>\n",
       "    </tr>\n",
       "    <tr>\n",
       "      <th>2</th>\n",
       "      <td>139</td>\n",
       "      <td>FF</td>\n",
       "      <td>2019-07-26</td>\n",
       "      <td>96.4</td>\n",
       "      <td>3.0275</td>\n",
       "      <td>5.2152</td>\n",
       "      <td>Josh Hader</td>\n",
       "      <td>595879.0</td>\n",
       "      <td>623352.0</td>\n",
       "      <td>NaN</td>\n",
       "      <td>...</td>\n",
       "      <td>3.0</td>\n",
       "      <td>2.0</td>\n",
       "      <td>2.0</td>\n",
       "      <td>3.0</td>\n",
       "      <td>2.0</td>\n",
       "      <td>3.0</td>\n",
       "      <td>2.0</td>\n",
       "      <td>3.0</td>\n",
       "      <td>Infield shift</td>\n",
       "      <td>Standard</td>\n",
       "    </tr>\n",
       "    <tr>\n",
       "      <th>3</th>\n",
       "      <td>149</td>\n",
       "      <td>FF</td>\n",
       "      <td>2019-07-26</td>\n",
       "      <td>95.8</td>\n",
       "      <td>2.8363</td>\n",
       "      <td>5.2773</td>\n",
       "      <td>Josh Hader</td>\n",
       "      <td>595879.0</td>\n",
       "      <td>623352.0</td>\n",
       "      <td>NaN</td>\n",
       "      <td>...</td>\n",
       "      <td>3.0</td>\n",
       "      <td>2.0</td>\n",
       "      <td>2.0</td>\n",
       "      <td>3.0</td>\n",
       "      <td>2.0</td>\n",
       "      <td>3.0</td>\n",
       "      <td>2.0</td>\n",
       "      <td>3.0</td>\n",
       "      <td>Standard</td>\n",
       "      <td>Standard</td>\n",
       "    </tr>\n",
       "    <tr>\n",
       "      <th>4</th>\n",
       "      <td>157</td>\n",
       "      <td>SL</td>\n",
       "      <td>2019-07-26</td>\n",
       "      <td>84.0</td>\n",
       "      <td>3.3324</td>\n",
       "      <td>5.0480</td>\n",
       "      <td>Josh Hader</td>\n",
       "      <td>519203.0</td>\n",
       "      <td>623352.0</td>\n",
       "      <td>field_out</td>\n",
       "      <td>...</td>\n",
       "      <td>3.0</td>\n",
       "      <td>2.0</td>\n",
       "      <td>2.0</td>\n",
       "      <td>3.0</td>\n",
       "      <td>2.0</td>\n",
       "      <td>3.0</td>\n",
       "      <td>2.0</td>\n",
       "      <td>3.0</td>\n",
       "      <td>Strategic</td>\n",
       "      <td>Standard</td>\n",
       "    </tr>\n",
       "  </tbody>\n",
       "</table>\n",
       "<p>5 rows × 90 columns</p>\n",
       "</div>"
      ],
      "text/plain": [
       "   index pitch_type  game_date  release_speed  release_pos_x  release_pos_z  \\\n",
       "0    124         FF 2019-07-26           97.9         2.9425         5.3351   \n",
       "1    133         FF 2019-07-26           95.8         3.0121         5.1484   \n",
       "2    139         FF 2019-07-26           96.4         3.0275         5.2152   \n",
       "3    149         FF 2019-07-26           95.8         2.8363         5.2773   \n",
       "4    157         SL 2019-07-26           84.0         3.3324         5.0480   \n",
       "\n",
       "  player_name    batter   pitcher     events          ...          home_score  \\\n",
       "0  Josh Hader  595879.0  623352.0  strikeout          ...                 3.0   \n",
       "1  Josh Hader  595879.0  623352.0        NaN          ...                 3.0   \n",
       "2  Josh Hader  595879.0  623352.0        NaN          ...                 3.0   \n",
       "3  Josh Hader  595879.0  623352.0        NaN          ...                 3.0   \n",
       "4  Josh Hader  519203.0  623352.0  field_out          ...                 3.0   \n",
       "\n",
       "   away_score  bat_score  fld_score  post_away_score  post_home_score  \\\n",
       "0         2.0        2.0        3.0              2.0              3.0   \n",
       "1         2.0        2.0        3.0              2.0              3.0   \n",
       "2         2.0        2.0        3.0              2.0              3.0   \n",
       "3         2.0        2.0        3.0              2.0              3.0   \n",
       "4         2.0        2.0        3.0              2.0              3.0   \n",
       "\n",
       "  post_bat_score post_fld_score if_fielding_alignment of_fielding_alignment  \n",
       "0            2.0            3.0         Infield shift              Standard  \n",
       "1            2.0            3.0         Infield shift              Standard  \n",
       "2            2.0            3.0         Infield shift              Standard  \n",
       "3            2.0            3.0              Standard              Standard  \n",
       "4            2.0            3.0             Strategic              Standard  \n",
       "\n",
       "[5 rows x 90 columns]"
      ]
     },
     "execution_count": 20,
     "metadata": {},
     "output_type": "execute_result"
    }
   ],
   "source": [
    "data.head()"
   ]
  },
  {
   "cell_type": "markdown",
   "metadata": {},
   "source": [
    "### Data import and munging"
   ]
  },
  {
   "cell_type": "code",
   "execution_count": 1,
   "metadata": {},
   "outputs": [],
   "source": [
    "import pandas as pd\n",
    "\n",
    "#df = pd.DataFrame(data)\n",
    "#df.to_csv(\"MLB_2019.csv\",index=False)"
   ]
  },
  {
   "cell_type": "code",
   "execution_count": 2,
   "metadata": {},
   "outputs": [],
   "source": [
    "df = pd.read_csv(\"MLB_2019.csv\")"
   ]
  },
  {
   "cell_type": "code",
   "execution_count": 3,
   "metadata": {},
   "outputs": [],
   "source": [
    "df['month'] = pd.DatetimeIndex(df['game_date']).month\n",
    "df['dayofgame'] = pd.DatetimeIndex(df['game_date']).day"
   ]
  },
  {
   "cell_type": "code",
   "execution_count": 4,
   "metadata": {},
   "outputs": [
    {
     "data": {
      "text/html": [
       "<div>\n",
       "<style scoped>\n",
       "    .dataframe tbody tr th:only-of-type {\n",
       "        vertical-align: middle;\n",
       "    }\n",
       "\n",
       "    .dataframe tbody tr th {\n",
       "        vertical-align: top;\n",
       "    }\n",
       "\n",
       "    .dataframe thead th {\n",
       "        text-align: right;\n",
       "    }\n",
       "</style>\n",
       "<table border=\"1\" class=\"dataframe\">\n",
       "  <thead>\n",
       "    <tr style=\"text-align: right;\">\n",
       "      <th></th>\n",
       "      <th>index</th>\n",
       "      <th>pitch_type</th>\n",
       "      <th>game_date</th>\n",
       "      <th>release_speed</th>\n",
       "      <th>release_pos_x</th>\n",
       "      <th>release_pos_z</th>\n",
       "      <th>player_name</th>\n",
       "      <th>batter</th>\n",
       "      <th>pitcher</th>\n",
       "      <th>events</th>\n",
       "      <th>...</th>\n",
       "      <th>bat_score</th>\n",
       "      <th>fld_score</th>\n",
       "      <th>post_away_score</th>\n",
       "      <th>post_home_score</th>\n",
       "      <th>post_bat_score</th>\n",
       "      <th>post_fld_score</th>\n",
       "      <th>if_fielding_alignment</th>\n",
       "      <th>of_fielding_alignment</th>\n",
       "      <th>month</th>\n",
       "      <th>dayofgame</th>\n",
       "    </tr>\n",
       "  </thead>\n",
       "  <tbody>\n",
       "    <tr>\n",
       "      <th>0</th>\n",
       "      <td>124</td>\n",
       "      <td>FF</td>\n",
       "      <td>2019-07-26</td>\n",
       "      <td>97.9</td>\n",
       "      <td>2.9425</td>\n",
       "      <td>5.3351</td>\n",
       "      <td>Josh Hader</td>\n",
       "      <td>595879.0</td>\n",
       "      <td>623352.0</td>\n",
       "      <td>strikeout</td>\n",
       "      <td>...</td>\n",
       "      <td>2.0</td>\n",
       "      <td>3.0</td>\n",
       "      <td>2.0</td>\n",
       "      <td>3.0</td>\n",
       "      <td>2.0</td>\n",
       "      <td>3.0</td>\n",
       "      <td>Infield shift</td>\n",
       "      <td>Standard</td>\n",
       "      <td>7</td>\n",
       "      <td>26</td>\n",
       "    </tr>\n",
       "    <tr>\n",
       "      <th>1</th>\n",
       "      <td>133</td>\n",
       "      <td>FF</td>\n",
       "      <td>2019-07-26</td>\n",
       "      <td>95.8</td>\n",
       "      <td>3.0121</td>\n",
       "      <td>5.1484</td>\n",
       "      <td>Josh Hader</td>\n",
       "      <td>595879.0</td>\n",
       "      <td>623352.0</td>\n",
       "      <td>NaN</td>\n",
       "      <td>...</td>\n",
       "      <td>2.0</td>\n",
       "      <td>3.0</td>\n",
       "      <td>2.0</td>\n",
       "      <td>3.0</td>\n",
       "      <td>2.0</td>\n",
       "      <td>3.0</td>\n",
       "      <td>Infield shift</td>\n",
       "      <td>Standard</td>\n",
       "      <td>7</td>\n",
       "      <td>26</td>\n",
       "    </tr>\n",
       "    <tr>\n",
       "      <th>2</th>\n",
       "      <td>139</td>\n",
       "      <td>FF</td>\n",
       "      <td>2019-07-26</td>\n",
       "      <td>96.4</td>\n",
       "      <td>3.0275</td>\n",
       "      <td>5.2152</td>\n",
       "      <td>Josh Hader</td>\n",
       "      <td>595879.0</td>\n",
       "      <td>623352.0</td>\n",
       "      <td>NaN</td>\n",
       "      <td>...</td>\n",
       "      <td>2.0</td>\n",
       "      <td>3.0</td>\n",
       "      <td>2.0</td>\n",
       "      <td>3.0</td>\n",
       "      <td>2.0</td>\n",
       "      <td>3.0</td>\n",
       "      <td>Infield shift</td>\n",
       "      <td>Standard</td>\n",
       "      <td>7</td>\n",
       "      <td>26</td>\n",
       "    </tr>\n",
       "    <tr>\n",
       "      <th>3</th>\n",
       "      <td>149</td>\n",
       "      <td>FF</td>\n",
       "      <td>2019-07-26</td>\n",
       "      <td>95.8</td>\n",
       "      <td>2.8363</td>\n",
       "      <td>5.2773</td>\n",
       "      <td>Josh Hader</td>\n",
       "      <td>595879.0</td>\n",
       "      <td>623352.0</td>\n",
       "      <td>NaN</td>\n",
       "      <td>...</td>\n",
       "      <td>2.0</td>\n",
       "      <td>3.0</td>\n",
       "      <td>2.0</td>\n",
       "      <td>3.0</td>\n",
       "      <td>2.0</td>\n",
       "      <td>3.0</td>\n",
       "      <td>Standard</td>\n",
       "      <td>Standard</td>\n",
       "      <td>7</td>\n",
       "      <td>26</td>\n",
       "    </tr>\n",
       "    <tr>\n",
       "      <th>4</th>\n",
       "      <td>157</td>\n",
       "      <td>SL</td>\n",
       "      <td>2019-07-26</td>\n",
       "      <td>84.0</td>\n",
       "      <td>3.3324</td>\n",
       "      <td>5.0480</td>\n",
       "      <td>Josh Hader</td>\n",
       "      <td>519203.0</td>\n",
       "      <td>623352.0</td>\n",
       "      <td>field_out</td>\n",
       "      <td>...</td>\n",
       "      <td>2.0</td>\n",
       "      <td>3.0</td>\n",
       "      <td>2.0</td>\n",
       "      <td>3.0</td>\n",
       "      <td>2.0</td>\n",
       "      <td>3.0</td>\n",
       "      <td>Strategic</td>\n",
       "      <td>Standard</td>\n",
       "      <td>7</td>\n",
       "      <td>26</td>\n",
       "    </tr>\n",
       "  </tbody>\n",
       "</table>\n",
       "<p>5 rows × 92 columns</p>\n",
       "</div>"
      ],
      "text/plain": [
       "   index pitch_type   game_date  release_speed  release_pos_x  release_pos_z  \\\n",
       "0    124         FF  2019-07-26           97.9         2.9425         5.3351   \n",
       "1    133         FF  2019-07-26           95.8         3.0121         5.1484   \n",
       "2    139         FF  2019-07-26           96.4         3.0275         5.2152   \n",
       "3    149         FF  2019-07-26           95.8         2.8363         5.2773   \n",
       "4    157         SL  2019-07-26           84.0         3.3324         5.0480   \n",
       "\n",
       "  player_name    batter   pitcher     events    ...    bat_score  fld_score  \\\n",
       "0  Josh Hader  595879.0  623352.0  strikeout    ...          2.0        3.0   \n",
       "1  Josh Hader  595879.0  623352.0        NaN    ...          2.0        3.0   \n",
       "2  Josh Hader  595879.0  623352.0        NaN    ...          2.0        3.0   \n",
       "3  Josh Hader  595879.0  623352.0        NaN    ...          2.0        3.0   \n",
       "4  Josh Hader  519203.0  623352.0  field_out    ...          2.0        3.0   \n",
       "\n",
       "   post_away_score  post_home_score  post_bat_score  post_fld_score  \\\n",
       "0              2.0              3.0             2.0             3.0   \n",
       "1              2.0              3.0             2.0             3.0   \n",
       "2              2.0              3.0             2.0             3.0   \n",
       "3              2.0              3.0             2.0             3.0   \n",
       "4              2.0              3.0             2.0             3.0   \n",
       "\n",
       "  if_fielding_alignment of_fielding_alignment month dayofgame  \n",
       "0         Infield shift              Standard     7        26  \n",
       "1         Infield shift              Standard     7        26  \n",
       "2         Infield shift              Standard     7        26  \n",
       "3              Standard              Standard     7        26  \n",
       "4             Strategic              Standard     7        26  \n",
       "\n",
       "[5 rows x 92 columns]"
      ]
     },
     "execution_count": 4,
     "metadata": {},
     "output_type": "execute_result"
    }
   ],
   "source": [
    "df.head()"
   ]
  },
  {
   "cell_type": "code",
   "execution_count": 5,
   "metadata": {},
   "outputs": [
    {
     "name": "stdout",
     "output_type": "stream",
     "text": [
      "<class 'pandas.core.frame.DataFrame'>\n",
      "RangeIndex: 466731 entries, 0 to 466730\n",
      "Data columns (total 92 columns):\n",
      "index                              466731 non-null int64\n",
      "pitch_type                         464498 non-null object\n",
      "game_date                          466731 non-null object\n",
      "release_speed                      463868 non-null float64\n",
      "release_pos_x                      463852 non-null float64\n",
      "release_pos_z                      463852 non-null float64\n",
      "player_name                        466731 non-null object\n",
      "batter                             466731 non-null float64\n",
      "pitcher                            466731 non-null float64\n",
      "events                             118860 non-null object\n",
      "description                        466731 non-null object\n",
      "spin_dir                           0 non-null float64\n",
      "spin_rate_deprecated               0 non-null float64\n",
      "break_angle_deprecated             0 non-null float64\n",
      "break_length_deprecated            0 non-null float64\n",
      "zone                               463852 non-null float64\n",
      "des                                118864 non-null object\n",
      "game_type                          466731 non-null object\n",
      "stand                              466731 non-null object\n",
      "p_throws                           466731 non-null object\n",
      "home_team                          466731 non-null object\n",
      "away_team                          466731 non-null object\n",
      "type                               466731 non-null object\n",
      "hit_location                       103418 non-null float64\n",
      "bb_type                            80579 non-null object\n",
      "balls                              466731 non-null float64\n",
      "strikes                            466731 non-null float64\n",
      "game_year                          466731 non-null float64\n",
      "pfx_x                              463852 non-null float64\n",
      "pfx_z                              463852 non-null float64\n",
      "plate_x                            463852 non-null float64\n",
      "plate_z                            463852 non-null float64\n",
      "on_3b                              42687 non-null float64\n",
      "on_2b                              85215 non-null float64\n",
      "on_1b                              141079 non-null float64\n",
      "outs_when_up                       466731 non-null float64\n",
      "inning                             466731 non-null float64\n",
      "inning_topbot                      466731 non-null object\n",
      "hc_x                               80297 non-null float64\n",
      "hc_y                               80297 non-null float64\n",
      "tfs_deprecated                     0 non-null float64\n",
      "tfs_zulu_deprecated                0 non-null float64\n",
      "fielder_2                          465124 non-null float64\n",
      "umpire                             0 non-null float64\n",
      "sv_id                              465121 non-null object\n",
      "vx0                                463852 non-null float64\n",
      "vy0                                463852 non-null float64\n",
      "vz0                                463852 non-null float64\n",
      "ax                                 463852 non-null float64\n",
      "ay                                 463852 non-null float64\n",
      "az                                 463852 non-null float64\n",
      "sz_top                             465124 non-null float64\n",
      "sz_bot                             465124 non-null float64\n",
      "hit_distance_sc                    123402 non-null float64\n",
      "launch_speed                       130678 non-null float64\n",
      "launch_angle                       130678 non-null float64\n",
      "effective_speed                    462640 non-null float64\n",
      "release_spin_rate                  456072 non-null float64\n",
      "release_extension                  463854 non-null float64\n",
      "game_pk                            466731 non-null float64\n",
      "pitcher.1                          466731 non-null float64\n",
      "fielder_2.1                        465124 non-null float64\n",
      "fielder_3                          465124 non-null float64\n",
      "fielder_4                          465124 non-null float64\n",
      "fielder_5                          465124 non-null float64\n",
      "fielder_6                          465124 non-null float64\n",
      "fielder_7                          465124 non-null float64\n",
      "fielder_8                          465124 non-null float64\n",
      "fielder_9                          465124 non-null float64\n",
      "release_pos_y                      463852 non-null float64\n",
      "estimated_ba_using_speedangle      80577 non-null float64\n",
      "estimated_woba_using_speedangle    80577 non-null float64\n",
      "woba_value                         118860 non-null float64\n",
      "woba_denom                         118857 non-null float64\n",
      "babip_value                        118860 non-null float64\n",
      "iso_value                          118860 non-null float64\n",
      "launch_speed_angle                 80577 non-null float64\n",
      "at_bat_number                      466731 non-null float64\n",
      "pitch_number                       466731 non-null float64\n",
      "pitch_name                         464498 non-null object\n",
      "home_score                         466731 non-null float64\n",
      "away_score                         466731 non-null float64\n",
      "bat_score                          466731 non-null float64\n",
      "fld_score                          466731 non-null float64\n",
      "post_away_score                    466731 non-null float64\n",
      "post_home_score                    466731 non-null float64\n",
      "post_bat_score                     466731 non-null float64\n",
      "post_fld_score                     466731 non-null float64\n",
      "if_fielding_alignment              463395 non-null object\n",
      "of_fielding_alignment              463395 non-null object\n",
      "month                              466731 non-null int64\n",
      "dayofgame                          466731 non-null int64\n",
      "dtypes: float64(71), int64(3), object(18)\n",
      "memory usage: 327.6+ MB\n"
     ]
    }
   ],
   "source": [
    "look_df=df.info()"
   ]
  },
  {
   "cell_type": "markdown",
   "metadata": {},
   "source": [
    "### Data code book "
   ]
  },
  {
   "cell_type": "markdown",
   "metadata": {},
   "source": [
    "pitch_type\n",
    ":The type of pitch derived from Statcast.\n",
    "\n",
    "game_date\n",
    ":Date of the Game.\n",
    "\n",
    "release_speed\n",
    ":Pitch velocities from 2008-16 are via Pitch F/X, and adjusted to roughly out-of-hand release point. All velocities from 2017 and beyond are Statcast, which are reported out-of-hand.\n",
    "\n",
    "release_pos_x\n",
    ":Horizontal Release Position of the ball measured in feet from the catcher's perspective.\n",
    "\n",
    "release_pos_z\n",
    ":Vertical Release Position of the ball measured in feet from the catcher's perspective.\n",
    "\n",
    "player_name\n",
    ":Player's name tied to the event of the search.\n",
    "\n",
    "batter\n",
    ":MLB Player Id tied to the play event.\n",
    "\n",
    "pitcher\n",
    ":MLB Player Id tied to the play event.\n",
    "\n",
    "events\n",
    ":Event of the resulting Plate Appearance.\n",
    "\n",
    "description\n",
    ":Description of the resulting pitch.\n",
    "\n",
    "spin_dir\n",
    "* Deprecated field from the old tracking system.\n",
    "\n",
    "spin_rate_deprecated\n",
    "* Deprecated field from the old tracking system. Replaced by release_spin\n",
    "\n",
    "break_angle_deprecated\n",
    "* Deprecated field from the old tracking system.\n",
    "\n",
    "break_length_deprecated\n",
    "* Deprecated field from the old tracking system.\n",
    "\n",
    "zone\n",
    ":Zone location of the ball when it crosses the plate from the catcher's perspective.\n",
    "\n",
    "\n",
    "des\n",
    ":Plate appearance description from game day.\n",
    "\n",
    "game_type\n",
    ":Type of Game. E = Exhibition, S = Spring Training, R = Regular Season, F = Wild Card, D = Divisional Series, L = League Championship Series, W = World Series\n",
    "\n",
    "stand\n",
    ":Side of the plate batter is standing.\n",
    "\n",
    "p_throws\n",
    ":Hand pitcher throws with.\n",
    "\n",
    "home_team\n",
    ":Abbreviation of home team.\n",
    "\n",
    "away_team\n",
    ":Abbreviation of away team.\n",
    "\n",
    "type\n",
    ":Short hand of pitch result. B = ball, S = strike, X = in play.\n",
    "\n",
    "hit_location\n",
    "Position of first fielder to touch the ball.\n",
    "\n",
    "bb_type\n",
    ":Batted ball type, ground_ball, line_drive, fly_ball, popup.\n",
    "\n",
    "balls\n",
    ":Pre-pitch number of balls in count.\n",
    "\n",
    "strikes\n",
    ":Pre-pitch number of strikes in count.\n",
    "\n",
    "game_year\n",
    ":Year game took place.\n",
    "\n",
    "pfx_x\n",
    ":Horizontal movement in feet from the catcher's perspective.\n",
    "\n",
    "pfx_z\n",
    ":Vertical movement in feet from the catcher's perpsective.\n",
    "\n",
    "plate_x\n",
    ":Horizontal position of the ball when it crosses home plate from the catcher's perspective.\n",
    "\n",
    "plate_z\n",
    ":Vertical position of the ball when it crosses home plate from the catcher's perspective.\n",
    "\n",
    "on_3b\n",
    ":Pre-pitch MLB Player Id of Runner on 3B.\n",
    "\n",
    "on_2b\n",
    ":Pre-pitch MLB Player Id of Runner on 2B.\n",
    "\n",
    "on_1b\n",
    ":Pre-pitch MLB Player Id of Runner on 1B.\n",
    "\n",
    "outs_when_up\n",
    ":Pre-pitch number of outs.\n",
    "\n",
    "inning\n",
    ":Pre-pitch inning number.\n",
    "\n",
    "inning_topbot\n",
    ":Pre-pitch top or bottom of inning.\n",
    "\n",
    "hc_x\n",
    ":Hit coordinate X of batted ball.\n",
    "\n",
    "hc_y\n",
    ":Hit coordinate Y of batted ball.\n",
    "\n",
    "tfs_deprecated\n",
    "* Deprecated field from old tracking system.\n",
    "\n",
    "tfs_zulu_deprecated\n",
    "* Deprecated field from old tracking system.\n",
    "\n",
    "fielder_2\n",
    ":Pre-pitch MLB Player Id of Catcher.\n",
    "\n",
    "umpire\n",
    "* Deprecated field from old tracking system.\n",
    "\n",
    "sv_id\n",
    ":Non-unique Id of play event per game.\n",
    "\n",
    "vx0\n",
    ":The velocity of the pitch, in feet per second, in x-dimension, determined at y=50 feet.\n",
    "\n",
    "vy0\n",
    ":The velocity of the pitch, in feet per second, in y-dimension, determined at y=50 feet.\n",
    "\n",
    "vy0\n",
    ":The velocity of the pitch, in feet per second, in z-dimension, determined at y=50 feet.\n",
    "\n",
    "ax\n",
    ":The acceleration of the pitch, in feet per second per second, in x-dimension, determined at y=50 feet.\n",
    "\n",
    "ay\n",
    ":The acceleration of the pitch, in feet per second per second, in y-dimension, determined at y=50 feet.\n",
    "\n",
    "az\n",
    ":The acceleration of the pitch, in feet per second per second, in z-dimension, determined at y=50 feet.\n",
    "\n",
    "sz_top\n",
    ":Top of the batter's strike zone set by the operator when the ball is halfway to the plate.\n",
    "\n",
    "sz_bot\n",
    ":Bottom of the batter's strike zone set by the operator when the ball is halfway to the plate.\n",
    "\n",
    "hit_distance\n",
    ":Projected hit distance of the batted ball.\n",
    "\n",
    "launch_speed\n",
    ":Exit velocity of the batted ball as tracked by Statcast. For the limited subset of batted balls not tracked directly, estimates are included based on the process described here.\n",
    "\n",
    "launch_angle\n",
    ":Launch angle of the batted ball as tracked by Statcast. For the limited subset of batted balls not tracked directly, estimates are included based on the process described here.\n",
    "\n",
    "effective_speed\n",
    "Derived speed based on the the extension of the pitcher's release.\n",
    "\n",
    "release_spin\n",
    ":Spin rate of pitch tracked by Statcast.\n",
    "\n",
    "release_extension\n",
    ":Release extension of pitch in feet as tracked by Statcast.\n",
    "\n",
    "game_pk\n",
    ":Unique Id for Game.\n",
    "\n",
    "pitcher\n",
    ":MLB Player Id tied to the play event.\n",
    "\n",
    "fielder_2\n",
    ":MLB Player Id for catcher.\n",
    "\n",
    "fielder_3\n",
    ":MLB Player Id for 1B.\n",
    "\n",
    "fielder_4\n",
    ":MLB Player Id for 2B.\n",
    "\n",
    "fielder_5\n",
    ":MLB Player Id for 3B.\n",
    "\n",
    "fielder_6\n",
    ":MLB Player Id for SS.\n",
    "\n",
    "fielder_7\n",
    ":MLB Player Id for LF.\n",
    "\n",
    "fielder_8\n",
    ":MLB Player Id for CF.\n",
    "\n",
    "fielder_9\n",
    ":MLB Player Id for RF.\n",
    "\n",
    "release_pos_y\n",
    ":Release position of pitch measured in feet from the catcher's perspective.\n",
    "\n",
    "estimated_ba_using_speedangle\n",
    ":Estimated Batting Avg based on launch angle and exit velocity.\n",
    "\n",
    "estimated_woba_using_speedangle\n",
    ":Estimated wOBA based on launch angle and exit velocity.\n",
    "\n",
    "woba_value\n",
    ":wOBA value based on result of play.\n",
    "\n",
    "woba_denom\n",
    ":wOBA denominator based on result of play.\n",
    "\n",
    "babip_value\n",
    ":BABIP value based on result of play.\n",
    "\n",
    "iso_value\n",
    ":ISO value based on result of play.\n",
    "\n",
    "launch_speed_angle\n",
    ":Launch speed/angle zone based on launch angle and exit velocity.\n",
    "1: Weak\n",
    "2: Topped\n",
    "3: Under\n",
    "4: Flare/Burner\n",
    "5: Solid Contact\n",
    "6: Barrel \n",
    "\n",
    "\n",
    "at_bat_number\n",
    ":Plate appearance number of the game.\n",
    "\n",
    "pitch_number\n",
    ":Total pitch number of the plate appearance.\n",
    "\n",
    "pitch_name\n",
    ":The name of the pitch derived from the Statcast Data.\n",
    "\n",
    "home_score\n",
    ":Pre-pitch home score\n",
    "\n",
    "away_score\n",
    ":Pre-pitch away score\n",
    "\n",
    "bat_score\n",
    ":Pre-pitch bat team score\n",
    "\n",
    "fld_score\n",
    ":Pre-pitch field team score\n",
    "\n",
    "post_home_score\n",
    ":Post-pitch home score\n",
    "\n",
    "post_away_score\n",
    ":Post-pitch away score\n",
    "\n",
    "post_bat_score\n",
    ":Post-pitch bat team score\n",
    "\n",
    "if_fielding_alignment\n",
    ":Infield fielding alignment at the time of the pitch.\n",
    "\n",
    "of_fielding_alignment\n",
    ":Outfield fielding alignment at the time of the pitch."
   ]
  },
  {
   "cell_type": "markdown",
   "metadata": {},
   "source": [
    "### Data exploration"
   ]
  },
  {
   "cell_type": "code",
   "execution_count": 6,
   "metadata": {},
   "outputs": [
    {
     "data": {
      "text/plain": [
       "player_name          pitch_type\n",
       "Matt Magill          CH               1.0\n",
       "Roman Quinn          CH               1.0\n",
       "Jose Osuna           CH               1.0\n",
       "Enyel De Los Santos  FT               1.0\n",
       "Sal Romano           CU               1.0\n",
       "David McKay          SL               1.0\n",
       "                     FF               1.0\n",
       "Wily Peralta         CU               1.0\n",
       "Richard Lovelady     CH               1.0\n",
       "Kyle Crick           CH               1.0\n",
       "Tony Barnette        CU               1.0\n",
       "David Carpenter      SL               1.0\n",
       "Geoff Hartlieb       FT               1.0\n",
       "Andrew Heaney        FT               1.0\n",
       "Mike Wright          FT               1.0\n",
       "Mike Shawaryn        CH               1.0\n",
       "Michel Baez          CU               1.0\n",
       "Hector Neris         SL               1.0\n",
       "Mark Reynolds        CU               1.0\n",
       "Matt Grace           CU               1.0\n",
       "Shane Bieber         FT               1.0\n",
       "Ehire Adrianza       CH               1.0\n",
       "Cody Anderson        FC               2.0\n",
       "Ryne Harper          FC               2.0\n",
       "Ryan O'Rourke        FT               2.0\n",
       "                     CU               2.0\n",
       "Jarlin Garcia        FT               2.0\n",
       "Clay Holmes          FC               2.0\n",
       "Alex Claudio         CU               2.0\n",
       "Brady Rodgers        FT               2.0\n",
       "                                    ...  \n",
       "Julio Teheran        FF            2552.0\n",
       "Chris Sale           FF            2603.0\n",
       "Chris Paddack        FF            2633.0\n",
       "Mike Minor           FF            2637.0\n",
       "Wade Miley           FC            2664.0\n",
       "Walker Buehler       FF            2667.0\n",
       "Shane Bieber         FF            2674.0\n",
       "Max Fried            FF            2684.0\n",
       "Robbie Ray           FF            2691.0\n",
       "Yonny Chirinos       SI            2701.0\n",
       "Jhoulys Chacin       SL            2725.0\n",
       "John Means           FF            2815.0\n",
       "Jon Gray             FF            2816.0\n",
       "Max Scherzer         FF            2883.0\n",
       "Lucas Giolito        FF            2914.0\n",
       "Matthew Boyd         FF            2917.0\n",
       "Freddy Peralta       FF            2975.0\n",
       "Jake Arrieta         SI            2980.0\n",
       "Tyler Mahle          FF            2981.0\n",
       "Trevor Bauer         FF            3002.0\n",
       "Justin Verlander     FF            3013.0\n",
       "Jack Flaherty        FF            3028.0\n",
       "James Paxton         FF            3056.0\n",
       "Jacob deGrom         FF            3065.0\n",
       "Antonio Senzatela    FF            3128.0\n",
       "Zach Davies          FT            3146.0\n",
       "Jake Odorizzi        FF            3355.0\n",
       "Gerrit Cole          FF            3419.0\n",
       "Lance Lynn           FF            3436.0\n",
       "Reynaldo Lopez       FF            3599.0\n",
       "Name: pitch_number, Length: 2944, dtype: float64"
      ]
     },
     "execution_count": 6,
     "metadata": {},
     "output_type": "execute_result"
    }
   ],
   "source": [
    "df.groupby(['player_name','pitch_type']).pitch_number.sum().sort_values()"
   ]
  },
  {
   "cell_type": "markdown",
   "metadata": {},
   "source": [
    "### Let's look at Hyun-Jin Ryu"
   ]
  },
  {
   "cell_type": "code",
   "execution_count": 7,
   "metadata": {},
   "outputs": [
    {
     "data": {
      "text/html": [
       "<div>\n",
       "<style scoped>\n",
       "    .dataframe tbody tr th:only-of-type {\n",
       "        vertical-align: middle;\n",
       "    }\n",
       "\n",
       "    .dataframe tbody tr th {\n",
       "        vertical-align: top;\n",
       "    }\n",
       "\n",
       "    .dataframe thead th {\n",
       "        text-align: right;\n",
       "    }\n",
       "</style>\n",
       "<table border=\"1\" class=\"dataframe\">\n",
       "  <thead>\n",
       "    <tr style=\"text-align: right;\">\n",
       "      <th></th>\n",
       "      <th>pitch_type</th>\n",
       "      <th>month</th>\n",
       "      <th>dayofgame</th>\n",
       "      <th>pitch_number</th>\n",
       "    </tr>\n",
       "  </thead>\n",
       "  <tbody>\n",
       "    <tr>\n",
       "      <th>466156</th>\n",
       "      <td>FF</td>\n",
       "      <td>3</td>\n",
       "      <td>28</td>\n",
       "      <td>1.0</td>\n",
       "    </tr>\n",
       "    <tr>\n",
       "      <th>289356</th>\n",
       "      <td>CH</td>\n",
       "      <td>5</td>\n",
       "      <td>12</td>\n",
       "      <td>1.0</td>\n",
       "    </tr>\n",
       "    <tr>\n",
       "      <th>289351</th>\n",
       "      <td>FC</td>\n",
       "      <td>5</td>\n",
       "      <td>12</td>\n",
       "      <td>1.0</td>\n",
       "    </tr>\n",
       "    <tr>\n",
       "      <th>289346</th>\n",
       "      <td>FC</td>\n",
       "      <td>5</td>\n",
       "      <td>12</td>\n",
       "      <td>1.0</td>\n",
       "    </tr>\n",
       "    <tr>\n",
       "      <th>103124</th>\n",
       "      <td>FF</td>\n",
       "      <td>6</td>\n",
       "      <td>28</td>\n",
       "      <td>1.0</td>\n",
       "    </tr>\n",
       "  </tbody>\n",
       "</table>\n",
       "</div>"
      ],
      "text/plain": [
       "       pitch_type  month  dayofgame  pitch_number\n",
       "466156         FF      3         28           1.0\n",
       "289356         CH      5         12           1.0\n",
       "289351         FC      5         12           1.0\n",
       "289346         FC      5         12           1.0\n",
       "103124         FF      6         28           1.0"
      ]
     },
     "execution_count": 7,
     "metadata": {},
     "output_type": "execute_result"
    }
   ],
   "source": [
    "Ryu_pitches = (df.loc[df.player_name=='Hyun-Jin Ryu', \n",
    "                                     ['pitch_type', 'month', 'dayofgame', 'pitch_number']]\n",
    "                      .sort_values(by='pitch_number'))\n",
    "Ryu_pitches.head()"
   ]
  },
  {
   "cell_type": "code",
   "execution_count": 8,
   "metadata": {},
   "outputs": [
    {
     "data": {
      "text/plain": [
       "1634.0"
      ]
     },
     "execution_count": 8,
     "metadata": {},
     "output_type": "execute_result"
    }
   ],
   "source": [
    "Ryu_pitches[Ryu_pitches.pitch_type=='CH'].pitch_number.sum()"
   ]
  },
  {
   "cell_type": "code",
   "execution_count": 9,
   "metadata": {},
   "outputs": [],
   "source": [
    "Ryu_month_sum = Ryu_pitches.groupby(['pitch_type', 'month']).pitch_number.sum().reset_index()"
   ]
  },
  {
   "cell_type": "code",
   "execution_count": 10,
   "metadata": {},
   "outputs": [],
   "source": [
    "import matplotlib.pyplot as plt\n",
    "import seaborn as sns\n",
    "%matplotlib inline"
   ]
  },
  {
   "cell_type": "code",
   "execution_count": 11,
   "metadata": {},
   "outputs": [
    {
     "name": "stderr",
     "output_type": "stream",
     "text": [
      "/home/kaysuh/anaconda3/lib/python3.7/site-packages/seaborn/categorical.py:3666: UserWarning: The `factorplot` function has been renamed to `catplot`. The original name will be removed in a future release. Please update your code. Note that the default `kind` in `factorplot` (`'point'`) has changed `'strip'` in `catplot`.\n",
      "  warnings.warn(msg)\n"
     ]
    },
    {
     "data": {
      "image/png": "[encoded data removed]",
      "text/plain": [
       "<Figure size 1080x720 with 5 Axes>"
      ]
     },
     "metadata": {
      "needs_background": "light"
     },
     "output_type": "display_data"
    }
   ],
   "source": [
    "g = sns.factorplot(data=Ryu_month_sum, col=\"pitch_type\", x=\"month\", y=\"pitch_number\",\n",
    "                  col_wrap=3);"
   ]
  },
  {
   "cell_type": "code",
   "execution_count": 12,
   "metadata": {},
   "outputs": [],
   "source": [
    "Ryu_game_sum = (Ryu_pitches.groupby(['pitch_type', 'dayofgame']).pitch_number\n",
    "                       .sum().reset_index())"
   ]
  },
  {
   "cell_type": "code",
   "execution_count": 13,
   "metadata": {},
   "outputs": [
    {
     "name": "stderr",
     "output_type": "stream",
     "text": [
      "/home/kaysuh/anaconda3/lib/python3.7/site-packages/seaborn/categorical.py:3666: UserWarning: The `factorplot` function has been renamed to `catplot`. The original name will be removed in a future release. Please update your code. Note that the default `kind` in `factorplot` (`'point'`) has changed `'strip'` in `catplot`.\n",
      "  warnings.warn(msg)\n"
     ]
    },
    {
     "data": {
      "image/png": "[encoded data removed]",
      "text/plain": [
       "<Figure size 1080x720 with 5 Axes>"
      ]
     },
     "metadata": {
      "needs_background": "light"
     },
     "output_type": "display_data"
    }
   ],
   "source": [
    "g = sns.factorplot(data=Ryu_game_sum, col=\"pitch_type\", x=\"dayofgame\", y=\"pitch_number\",\n",
    "                  col_wrap=3)\n",
    "g.set_xticklabels(rotation=90);"
   ]
  },
  {
   "cell_type": "code",
   "execution_count": 14,
   "metadata": {},
   "outputs": [
    {
     "data": {
      "text/plain": [
       "player_name          pitch_type\n",
       "Matt Magill          CH               1.0\n",
       "Roman Quinn          CH               1.0\n",
       "Jose Osuna           CH               1.0\n",
       "Enyel De Los Santos  FT               1.0\n",
       "Sal Romano           CU               1.0\n",
       "David McKay          SL               1.0\n",
       "                     FF               1.0\n",
       "Wily Peralta         CU               1.0\n",
       "Richard Lovelady     CH               1.0\n",
       "Kyle Crick           CH               1.0\n",
       "Tony Barnette        CU               1.0\n",
       "David Carpenter      SL               1.0\n",
       "Geoff Hartlieb       FT               1.0\n",
       "Andrew Heaney        FT               1.0\n",
       "Mike Wright          FT               1.0\n",
       "Mike Shawaryn        CH               1.0\n",
       "Michel Baez          CU               1.0\n",
       "Hector Neris         SL               1.0\n",
       "Mark Reynolds        CU               1.0\n",
       "Matt Grace           CU               1.0\n",
       "Shane Bieber         FT               1.0\n",
       "Ehire Adrianza       CH               1.0\n",
       "Cody Anderson        FC               2.0\n",
       "Ryne Harper          FC               2.0\n",
       "Ryan O'Rourke        FT               2.0\n",
       "                     CU               2.0\n",
       "Jarlin Garcia        FT               2.0\n",
       "Clay Holmes          FC               2.0\n",
       "Alex Claudio         CU               2.0\n",
       "Brady Rodgers        FT               2.0\n",
       "                                    ...  \n",
       "Julio Teheran        FF            2552.0\n",
       "Chris Sale           FF            2603.0\n",
       "Chris Paddack        FF            2633.0\n",
       "Mike Minor           FF            2637.0\n",
       "Wade Miley           FC            2664.0\n",
       "Walker Buehler       FF            2667.0\n",
       "Shane Bieber         FF            2674.0\n",
       "Max Fried            FF            2684.0\n",
       "Robbie Ray           FF            2691.0\n",
       "Yonny Chirinos       SI            2701.0\n",
       "Jhoulys Chacin       SL            2725.0\n",
       "John Means           FF            2815.0\n",
       "Jon Gray             FF            2816.0\n",
       "Max Scherzer         FF            2883.0\n",
       "Lucas Giolito        FF            2914.0\n",
       "Matthew Boyd         FF            2917.0\n",
       "Freddy Peralta       FF            2975.0\n",
       "Jake Arrieta         SI            2980.0\n",
       "Tyler Mahle          FF            2981.0\n",
       "Trevor Bauer         FF            3002.0\n",
       "Justin Verlander     FF            3013.0\n",
       "Jack Flaherty        FF            3028.0\n",
       "James Paxton         FF            3056.0\n",
       "Jacob deGrom         FF            3065.0\n",
       "Antonio Senzatela    FF            3128.0\n",
       "Zach Davies          FT            3146.0\n",
       "Jake Odorizzi        FF            3355.0\n",
       "Gerrit Cole          FF            3419.0\n",
       "Lance Lynn           FF            3436.0\n",
       "Reynaldo Lopez       FF            3599.0\n",
       "Name: pitch_number, Length: 2944, dtype: float64"
      ]
     },
     "execution_count": 14,
     "metadata": {},
     "output_type": "execute_result"
    }
   ],
   "source": [
    "df.groupby(['player_name','pitch_type']).pitch_number.sum().sort_values()"
   ]
  },
  {
   "cell_type": "markdown",
   "metadata": {},
   "source": [
    "## Hyun-Jin Ryu vs. Max Scherzer, NL cy young race contenders 2019"
   ]
  },
  {
   "cell_type": "code",
   "execution_count": 15,
   "metadata": {},
   "outputs": [],
   "source": [
    "is_ryu = df[df['player_name']=='Hyun-Jin Ryu']\n"
   ]
  },
  {
   "cell_type": "code",
   "execution_count": 19,
   "metadata": {},
   "outputs": [],
   "source": [
    "ryu_plot = is_ryu['events'].value_counts()"
   ]
  },
  {
   "cell_type": "code",
   "execution_count": 22,
   "metadata": {},
   "outputs": [
    {
     "data": {
      "text/plain": [
       "<matplotlib.axes._subplots.AxesSubplot at 0x7f1040faae48>"
      ]
     },
     "execution_count": 22,
     "metadata": {},
     "output_type": "execute_result"
    },
    {
     "data": {
      "image/png": "[encoded data removed]",
      "text/plain": [
       "<Figure size 432x288 with 1 Axes>"
      ]
     },
     "metadata": {
      "needs_background": "light"
     },
     "output_type": "display_data"
    }
   ],
   "source": [
    "ryu_plot.plot.bar()"
   ]
  },
  {
   "cell_type": "code",
   "execution_count": 23,
   "metadata": {},
   "outputs": [
    {
     "data": {
      "image/png": "[encoded data removed]",
      "text/plain": [
       "<Figure size 432x360 with 1 Axes>"
      ]
     },
     "metadata": {},
     "output_type": "display_data"
    }
   ],
   "source": [
    "ryu_plot.plot(kind='pie',\n",
    "             figsize=(6, 5),\n",
    "             autopct='%1.1f%%', # add in percentages\n",
    "             startangle=90,     # start angle 90° (Africa)\n",
    "             shadow=True,       # add shadow      \n",
    "             )\n",
    " \n",
    "plt.title(\"Ryu's record for Event of the resulting Plate Appearance\")\n",
    "plt.axis('equal') # Sets the pie chart to look like a circle.\n",
    " \n",
    "plt.show()"
   ]
  },
  {
   "cell_type": "code",
   "execution_count": 24,
   "metadata": {},
   "outputs": [],
   "source": [
    "is_sherzer = df[df['player_name']=='Max Scherzer']"
   ]
  },
  {
   "cell_type": "code",
   "execution_count": 25,
   "metadata": {},
   "outputs": [
    {
     "data": {
      "text/html": [
       "<div>\n",
       "<style scoped>\n",
       "    .dataframe tbody tr th:only-of-type {\n",
       "        vertical-align: middle;\n",
       "    }\n",
       "\n",
       "    .dataframe tbody tr th {\n",
       "        vertical-align: top;\n",
       "    }\n",
       "\n",
       "    .dataframe thead th {\n",
       "        text-align: right;\n",
       "    }\n",
       "</style>\n",
       "<table border=\"1\" class=\"dataframe\">\n",
       "  <thead>\n",
       "    <tr style=\"text-align: right;\">\n",
       "      <th></th>\n",
       "      <th>index</th>\n",
       "      <th>pitch_type</th>\n",
       "      <th>game_date</th>\n",
       "      <th>release_speed</th>\n",
       "      <th>release_pos_x</th>\n",
       "      <th>release_pos_z</th>\n",
       "      <th>player_name</th>\n",
       "      <th>batter</th>\n",
       "      <th>pitcher</th>\n",
       "      <th>events</th>\n",
       "      <th>...</th>\n",
       "      <th>bat_score</th>\n",
       "      <th>fld_score</th>\n",
       "      <th>post_away_score</th>\n",
       "      <th>post_home_score</th>\n",
       "      <th>post_bat_score</th>\n",
       "      <th>post_fld_score</th>\n",
       "      <th>if_fielding_alignment</th>\n",
       "      <th>of_fielding_alignment</th>\n",
       "      <th>month</th>\n",
       "      <th>dayofgame</th>\n",
       "    </tr>\n",
       "  </thead>\n",
       "  <tbody>\n",
       "    <tr>\n",
       "      <th>5911</th>\n",
       "      <td>1785</td>\n",
       "      <td>CU</td>\n",
       "      <td>2019-07-25</td>\n",
       "      <td>77.5</td>\n",
       "      <td>-3.4114</td>\n",
       "      <td>5.4250</td>\n",
       "      <td>Max Scherzer</td>\n",
       "      <td>621311.0</td>\n",
       "      <td>453286.0</td>\n",
       "      <td>caught_stealing_2b</td>\n",
       "      <td>...</td>\n",
       "      <td>3.0</td>\n",
       "      <td>0.0</td>\n",
       "      <td>3.0</td>\n",
       "      <td>0.0</td>\n",
       "      <td>3.0</td>\n",
       "      <td>0.0</td>\n",
       "      <td>Standard</td>\n",
       "      <td>Standard</td>\n",
       "      <td>7</td>\n",
       "      <td>25</td>\n",
       "    </tr>\n",
       "    <tr>\n",
       "      <th>5912</th>\n",
       "      <td>1796</td>\n",
       "      <td>SL</td>\n",
       "      <td>2019-07-25</td>\n",
       "      <td>85.0</td>\n",
       "      <td>-3.6777</td>\n",
       "      <td>4.9623</td>\n",
       "      <td>Max Scherzer</td>\n",
       "      <td>596115.0</td>\n",
       "      <td>453286.0</td>\n",
       "      <td>field_out</td>\n",
       "      <td>...</td>\n",
       "      <td>3.0</td>\n",
       "      <td>0.0</td>\n",
       "      <td>3.0</td>\n",
       "      <td>0.0</td>\n",
       "      <td>3.0</td>\n",
       "      <td>0.0</td>\n",
       "      <td>Standard</td>\n",
       "      <td>Standard</td>\n",
       "      <td>7</td>\n",
       "      <td>25</td>\n",
       "    </tr>\n",
       "    <tr>\n",
       "      <th>5913</th>\n",
       "      <td>1798</td>\n",
       "      <td>FF</td>\n",
       "      <td>2019-07-25</td>\n",
       "      <td>95.4</td>\n",
       "      <td>-3.5667</td>\n",
       "      <td>4.9891</td>\n",
       "      <td>Max Scherzer</td>\n",
       "      <td>596115.0</td>\n",
       "      <td>453286.0</td>\n",
       "      <td>NaN</td>\n",
       "      <td>...</td>\n",
       "      <td>3.0</td>\n",
       "      <td>0.0</td>\n",
       "      <td>3.0</td>\n",
       "      <td>0.0</td>\n",
       "      <td>3.0</td>\n",
       "      <td>0.0</td>\n",
       "      <td>Standard</td>\n",
       "      <td>Standard</td>\n",
       "      <td>7</td>\n",
       "      <td>25</td>\n",
       "    </tr>\n",
       "    <tr>\n",
       "      <th>5914</th>\n",
       "      <td>1811</td>\n",
       "      <td>SL</td>\n",
       "      <td>2019-07-25</td>\n",
       "      <td>86.0</td>\n",
       "      <td>-3.6349</td>\n",
       "      <td>4.9646</td>\n",
       "      <td>Max Scherzer</td>\n",
       "      <td>596115.0</td>\n",
       "      <td>453286.0</td>\n",
       "      <td>NaN</td>\n",
       "      <td>...</td>\n",
       "      <td>3.0</td>\n",
       "      <td>0.0</td>\n",
       "      <td>3.0</td>\n",
       "      <td>0.0</td>\n",
       "      <td>3.0</td>\n",
       "      <td>0.0</td>\n",
       "      <td>Standard</td>\n",
       "      <td>Standard</td>\n",
       "      <td>7</td>\n",
       "      <td>25</td>\n",
       "    </tr>\n",
       "    <tr>\n",
       "      <th>5915</th>\n",
       "      <td>1823</td>\n",
       "      <td>SL</td>\n",
       "      <td>2019-07-25</td>\n",
       "      <td>84.5</td>\n",
       "      <td>-3.7545</td>\n",
       "      <td>4.8674</td>\n",
       "      <td>Max Scherzer</td>\n",
       "      <td>596115.0</td>\n",
       "      <td>453286.0</td>\n",
       "      <td>NaN</td>\n",
       "      <td>...</td>\n",
       "      <td>3.0</td>\n",
       "      <td>0.0</td>\n",
       "      <td>3.0</td>\n",
       "      <td>0.0</td>\n",
       "      <td>3.0</td>\n",
       "      <td>0.0</td>\n",
       "      <td>Standard</td>\n",
       "      <td>Standard</td>\n",
       "      <td>7</td>\n",
       "      <td>25</td>\n",
       "    </tr>\n",
       "  </tbody>\n",
       "</table>\n",
       "<p>5 rows × 92 columns</p>\n",
       "</div>"
      ],
      "text/plain": [
       "      index pitch_type   game_date  release_speed  release_pos_x  \\\n",
       "5911   1785         CU  2019-07-25           77.5        -3.4114   \n",
       "5912   1796         SL  2019-07-25           85.0        -3.6777   \n",
       "5913   1798         FF  2019-07-25           95.4        -3.5667   \n",
       "5914   1811         SL  2019-07-25           86.0        -3.6349   \n",
       "5915   1823         SL  2019-07-25           84.5        -3.7545   \n",
       "\n",
       "      release_pos_z   player_name    batter   pitcher              events  \\\n",
       "5911         5.4250  Max Scherzer  621311.0  453286.0  caught_stealing_2b   \n",
       "5912         4.9623  Max Scherzer  596115.0  453286.0           field_out   \n",
       "5913         4.9891  Max Scherzer  596115.0  453286.0                 NaN   \n",
       "5914         4.9646  Max Scherzer  596115.0  453286.0                 NaN   \n",
       "5915         4.8674  Max Scherzer  596115.0  453286.0                 NaN   \n",
       "\n",
       "        ...    bat_score  fld_score  post_away_score  post_home_score  \\\n",
       "5911    ...          3.0        0.0              3.0              0.0   \n",
       "5912    ...          3.0        0.0              3.0              0.0   \n",
       "5913    ...          3.0        0.0              3.0              0.0   \n",
       "5914    ...          3.0        0.0              3.0              0.0   \n",
       "5915    ...          3.0        0.0              3.0              0.0   \n",
       "\n",
       "      post_bat_score  post_fld_score if_fielding_alignment  \\\n",
       "5911             3.0             0.0              Standard   \n",
       "5912             3.0             0.0              Standard   \n",
       "5913             3.0             0.0              Standard   \n",
       "5914             3.0             0.0              Standard   \n",
       "5915             3.0             0.0              Standard   \n",
       "\n",
       "     of_fielding_alignment month dayofgame  \n",
       "5911              Standard     7        25  \n",
       "5912              Standard     7        25  \n",
       "5913              Standard     7        25  \n",
       "5914              Standard     7        25  \n",
       "5915              Standard     7        25  \n",
       "\n",
       "[5 rows x 92 columns]"
      ]
     },
     "execution_count": 25,
     "metadata": {},
     "output_type": "execute_result"
    }
   ],
   "source": [
    "is_sherzer.head()"
   ]
  },
  {
   "cell_type": "code",
   "execution_count": 26,
   "metadata": {},
   "outputs": [],
   "source": [
    "sherzer_plot = is_sherzer['events'].value_counts()"
   ]
  },
  {
   "cell_type": "code",
   "execution_count": 27,
   "metadata": {},
   "outputs": [
    {
     "data": {
      "text/plain": [
       "<matplotlib.axes._subplots.AxesSubplot at 0x7f1040f31b70>"
      ]
     },
     "execution_count": 27,
     "metadata": {},
     "output_type": "execute_result"
    },
    {
     "data": {
      "image/png": "[encoded data removed]",
      "text/plain": [
       "<Figure size 432x288 with 1 Axes>"
      ]
     },
     "metadata": {
      "needs_background": "light"
     },
     "output_type": "display_data"
    }
   ],
   "source": [
    "sherzer_plot.plot.bar()"
   ]
  },
  {
   "cell_type": "code",
   "execution_count": 28,
   "metadata": {},
   "outputs": [
    {
     "data": {
      "image/png": "[encoded data removed]",
      "text/plain": [
       "<Figure size 432x360 with 1 Axes>"
      ]
     },
     "metadata": {},
     "output_type": "display_data"
    }
   ],
   "source": [
    "sherzer_plot.plot(kind='pie',\n",
    "             figsize=(6, 5),\n",
    "             autopct='%1.1f%%', # add in percentages\n",
    "             startangle=90,     # start angle 90° (Africa)\n",
    "             shadow=True,       # add shadow      \n",
    "             )\n",
    " \n",
    "plt.title(\"Sherzer's record for Event of the resulting Plate Appearance\")\n",
    "plt.axis('equal') # Sets the pie chart to look like a circle.\n",
    " \n",
    "plt.show()"
   ]
  },
  {
   "cell_type": "code",
   "execution_count": null,
   "metadata": {},
   "outputs": [],
   "source": [
    "ryu_plot.plot.bar()"
   ]
  },
  {
   "cell_type": "code",
   "execution_count": 71,
   "metadata": {},
   "outputs": [
    {
     "name": "stdout",
     "output_type": "stream",
     "text": [
      "Hyun-jin Ryu pitched ball event totals, 2019:\n",
      "field_out                    222\n",
      "strikeout                    116\n",
      "single                        77\n",
      "double                        22\n",
      "walk                          15\n",
      "grounded_into_double_play     14\n",
      "force_out                     11\n",
      "home_run                      10\n",
      "field_error                    5\n",
      "sac_bunt                       4\n",
      "fielders_choice                3\n",
      "hit_by_pitch                   2\n",
      "sac_fly                        2\n",
      "double_play                    1\n",
      "Name: events, dtype: int64\n",
      "\n",
      "Max sherzer pitched event totals, 2019:\n",
      "strikeout                    188\n",
      "field_out                    185\n",
      "single                        65\n",
      "double                        33\n",
      "walk                          23\n",
      "home_run                      10\n",
      "force_out                      8\n",
      "hit_by_pitch                   7\n",
      "grounded_into_double_play      7\n",
      "field_error                    2\n",
      "double_play                    1\n",
      "catcher_interf                 1\n",
      "strikeout_double_play          1\n",
      "fielders_choice_out            1\n",
      "caught_stealing_2b             1\n",
      "fielders_choice                1\n",
      "Name: events, dtype: int64\n"
     ]
    }
   ],
   "source": [
    "print(\"Hyun-jin Ryu pitched ball event totals, 2019:\")\n",
    "print(is_ryu['events'].value_counts())\n",
    "\n",
    "\n",
    "\n",
    "print(\"\\nMax sherzer pitched event totals, 2019:\")\n",
    "print(is_sherzer['events'].value_counts())"
   ]
  },
  {
   "cell_type": "code",
   "execution_count": 72,
   "metadata": {
    "scrolled": true
   },
   "outputs": [
    {
     "data": {
      "text/plain": [
       "field_out                    222\n",
       "strikeout                    116\n",
       "single                        77\n",
       "double                        22\n",
       "walk                          15\n",
       "grounded_into_double_play     14\n",
       "force_out                     11\n",
       "home_run                      10\n",
       "field_error                    5\n",
       "sac_bunt                       4\n",
       "fielders_choice                3\n",
       "hit_by_pitch                   2\n",
       "sac_fly                        2\n",
       "double_play                    1\n",
       "Name: events, dtype: int64"
      ]
     },
     "execution_count": 72,
     "metadata": {},
     "output_type": "execute_result"
    }
   ],
   "source": [
    "is_ryu['events'].value_counts()"
   ]
  },
  {
   "cell_type": "code",
   "execution_count": 73,
   "metadata": {},
   "outputs": [
    {
     "data": {
      "text/plain": [
       "strikeout                    188\n",
       "field_out                    185\n",
       "single                        65\n",
       "double                        33\n",
       "walk                          23\n",
       "home_run                      10\n",
       "force_out                      8\n",
       "hit_by_pitch                   7\n",
       "grounded_into_double_play      7\n",
       "field_error                    2\n",
       "double_play                    1\n",
       "catcher_interf                 1\n",
       "strikeout_double_play          1\n",
       "fielders_choice_out            1\n",
       "caught_stealing_2b             1\n",
       "fielders_choice                1\n",
       "Name: events, dtype: int64"
      ]
     },
     "execution_count": 73,
     "metadata": {},
     "output_type": "execute_result"
    }
   ],
   "source": [
    "is_sherzer['events'].value_counts()"
   ]
  },
  {
   "cell_type": "code",
   "execution_count": 74,
   "metadata": {},
   "outputs": [
    {
     "data": {
      "text/plain": [
       "FF    547\n",
       "CH    518\n",
       "FC    356\n",
       "FT    234\n",
       "CU    220\n",
       "Name: pitch_type, dtype: int64"
      ]
     },
     "execution_count": 74,
     "metadata": {},
     "output_type": "execute_result"
    }
   ],
   "source": [
    "is_ryu['pitch_type'].value_counts()"
   ]
  },
  {
   "cell_type": "code",
   "execution_count": 75,
   "metadata": {},
   "outputs": [
    {
     "data": {
      "text/plain": [
       "FF    1024\n",
       "SL     453\n",
       "CH     296\n",
       "CU     173\n",
       "FC     167\n",
       "Name: pitch_type, dtype: int64"
      ]
     },
     "execution_count": 75,
     "metadata": {},
     "output_type": "execute_result"
    }
   ],
   "source": [
    "is_sherzer['pitch_type'].value_counts()"
   ]
  },
  {
   "cell_type": "code",
   "execution_count": 76,
   "metadata": {},
   "outputs": [
    {
     "data": {
      "text/plain": [
       "91.655    3\n",
       "81.675    3\n",
       "82.019    2\n",
       "89.229    2\n",
       "90.655    2\n",
       "89.895    2\n",
       "92.264    2\n",
       "92.324    2\n",
       "91.013    2\n",
       "90.549    2\n",
       "79.193    2\n",
       "91.339    2\n",
       "90.762    2\n",
       "91.561    2\n",
       "80.789    2\n",
       "91.818    2\n",
       "91.363    2\n",
       "89.362    2\n",
       "91.221    2\n",
       "86.800    2\n",
       "91.800    2\n",
       "88.629    2\n",
       "90.111    2\n",
       "90.559    2\n",
       "88.335    2\n",
       "92.811    2\n",
       "92.892    2\n",
       "89.907    2\n",
       "90.293    2\n",
       "92.653    2\n",
       "         ..\n",
       "91.109    1\n",
       "79.808    1\n",
       "91.058    1\n",
       "79.842    1\n",
       "91.513    1\n",
       "89.643    1\n",
       "88.769    1\n",
       "90.870    1\n",
       "81.363    1\n",
       "92.052    1\n",
       "80.319    1\n",
       "81.550    1\n",
       "71.950    1\n",
       "88.050    1\n",
       "90.050    1\n",
       "68.915    1\n",
       "83.101    1\n",
       "88.128    1\n",
       "92.587    1\n",
       "72.389    1\n",
       "91.311    1\n",
       "87.219    1\n",
       "82.464    1\n",
       "91.558    1\n",
       "90.535    1\n",
       "89.459    1\n",
       "71.867    1\n",
       "79.689    1\n",
       "88.267    1\n",
       "80.500    1\n",
       "Name: effective_speed, Length: 1764, dtype: int64"
      ]
     },
     "execution_count": 76,
     "metadata": {},
     "output_type": "execute_result"
    }
   ],
   "source": [
    "is_ryu['effective_speed'].value_counts()"
   ]
  },
  {
   "cell_type": "code",
   "execution_count": 77,
   "metadata": {},
   "outputs": [
    {
     "data": {
      "text/plain": [
       "94.729    5\n",
       "94.696    4\n",
       "95.395    4\n",
       "94.606    3\n",
       "93.095    3\n",
       "83.802    3\n",
       "83.506    3\n",
       "93.775    2\n",
       "95.994    2\n",
       "95.947    2\n",
       "94.556    2\n",
       "94.275    2\n",
       "94.704    2\n",
       "93.588    2\n",
       "95.717    2\n",
       "93.147    2\n",
       "95.327    2\n",
       "84.456    2\n",
       "93.980    2\n",
       "82.738    2\n",
       "93.368    2\n",
       "95.831    2\n",
       "85.479    2\n",
       "94.732    2\n",
       "94.370    2\n",
       "94.006    2\n",
       "92.387    2\n",
       "84.205    2\n",
       "82.606    2\n",
       "94.116    2\n",
       "         ..\n",
       "84.396    1\n",
       "85.309    1\n",
       "84.533    1\n",
       "77.865    1\n",
       "85.680    1\n",
       "89.345    1\n",
       "85.242    1\n",
       "95.090    1\n",
       "94.462    1\n",
       "78.329    1\n",
       "94.671    1\n",
       "85.529    1\n",
       "89.895    1\n",
       "95.318    1\n",
       "79.682    1\n",
       "94.038    1\n",
       "94.009    1\n",
       "77.999    1\n",
       "91.771    1\n",
       "92.362    1\n",
       "75.759    1\n",
       "93.241    1\n",
       "92.575    1\n",
       "85.193    1\n",
       "95.644    1\n",
       "93.635    1\n",
       "95.264    1\n",
       "95.970    1\n",
       "86.122    1\n",
       "93.500    1\n",
       "Name: effective_speed, Length: 1964, dtype: int64"
      ]
     },
     "execution_count": 77,
     "metadata": {},
     "output_type": "execute_result"
    }
   ],
   "source": [
    "is_sherzer['effective_speed'].value_counts()"
   ]
  },
  {
   "cell_type": "code",
   "execution_count": 78,
   "metadata": {},
   "outputs": [],
   "source": [
    "import matplotlib.pyplot as plt\n",
    "import seaborn as sns\n",
    "%matplotlib inline"
   ]
  },
  {
   "cell_type": "markdown",
   "metadata": {},
   "source": [
    "### Analyzing field_out with Statcast data"
   ]
  },
  {
   "cell_type": "code",
   "execution_count": 79,
   "metadata": {},
   "outputs": [
    {
     "name": "stderr",
     "output_type": "stream",
     "text": [
      "/home/kaysuh/anaconda3/lib/python3.7/site-packages/scipy/stats/stats.py:1713: FutureWarning: Using a non-tuple sequence for multidimensional indexing is deprecated; use `arr[tuple(seq)]` instead of `arr[seq]`. In the future this will be interpreted as an array index, `arr[np.array(seq)]`, which will result either in an error or a different result.\n",
      "  return np.add.reduce(sorted[indexer] * weights, axis=axis) / sumval\n",
      "/home/kaysuh/anaconda3/lib/python3.7/site-packages/numpy/core/_methods.py:32: RuntimeWarning: invalid value encountered in reduce\n",
      "  return umr_minimum(a, axis, None, out, keepdims, initial)\n",
      "/home/kaysuh/anaconda3/lib/python3.7/site-packages/numpy/core/_methods.py:28: RuntimeWarning: invalid value encountered in reduce\n",
      "  return umr_maximum(a, axis, None, out, keepdims, initial)\n",
      "/home/kaysuh/anaconda3/lib/python3.7/site-packages/matplotlib/contour.py:1520: UserWarning: Warning: converting a masked element to nan.\n",
      "  self.zmax = float(z.max())\n",
      "/home/kaysuh/anaconda3/lib/python3.7/site-packages/matplotlib/contour.py:1521: UserWarning: Warning: converting a masked element to nan.\n",
      "  self.zmin = float(z.min())\n",
      "/home/kaysuh/anaconda3/lib/python3.7/site-packages/matplotlib/contour.py:1169: RuntimeWarning: invalid value encountered in less\n",
      "  under = np.nonzero(lev < self.zmin)[0]\n",
      "/home/kaysuh/anaconda3/lib/python3.7/site-packages/matplotlib/contour.py:1171: RuntimeWarning: invalid value encountered in greater\n",
      "  over = np.nonzero(lev > self.zmax)[0]\n"
     ]
    },
    {
     "data": {
      "text/plain": [
       "Text(0.5, 1.0, 'Max Sherzer\\nField out, 2019')"
      ]
     },
     "execution_count": 79,
     "metadata": {},
     "output_type": "execute_result"
    },
    {
     "data": {
      "image/png": "[encoded data removed]",
      "text/plain": [
       "<Figure size 432x288 with 2 Axes>"
      ]
     },
     "metadata": {
      "needs_background": "light"
     },
     "output_type": "display_data"
    },
    {
     "data": {
      "image/png": "[encoded data removed]",
      "text/plain": [
       "<Figure size 432x288 with 2 Axes>"
      ]
     },
     "metadata": {
      "needs_background": "light"
     },
     "output_type": "display_data"
    }
   ],
   "source": [
    "# Filter to include home runs only\n",
    "ryu_field_out = is_ryu[is_ryu['events'] == 'field_out']\n",
    "sherzer_field_out = is_sherzer[is_sherzer['events'] == 'field_out']\n",
    "\n",
    "# Create a figure with two scatter plots \n",
    "fig1, axs1 = plt.subplots(ncols=2, sharex=True, sharey=True)\n",
    "sns.regplot(x='effective_speed', y='release_spin_rate', fit_reg=False, color='tab:blue', data=ryu_field_out, ax=axs1[0]).set_title('Hyun-Jin Ryu\\nField out, 2019')\n",
    "sns.regplot(x='effective_speed', y='release_spin_rate', fit_reg=False, color='tab:blue', data=sherzer_field_out, ax=axs1[1]).set_title('Max Sherzer\\nField out, 2019')\n",
    "\n",
    "# Create a figure with two KDE plots \n",
    "fig2, axs2 = plt.subplots(ncols=2, sharex=True, sharey=True)\n",
    "sns.kdeplot(ryu_field_out['effective_speed'], ryu_field_out['release_spin_rate'], cmap=\"Blues\", shade=True, shade_lowest=False, ax=axs2[0]).set_title('Hyun-Jin Ryu\\nField out, 2019')\n",
    "sns.kdeplot(sherzer_field_out['effective_speed'], sherzer_field_out['release_spin_rate'], cmap=\"Blues\", shade=True, shade_lowest=False, ax=axs2[1]).set_title('Max Sherzer\\nField out, 2019')"
   ]
  },
  {
   "cell_type": "markdown",
   "metadata": {},
   "source": [
    "### Field_out by pitch's release_speed"
   ]
  },
  {
   "cell_type": "code",
   "execution_count": 80,
   "metadata": {},
   "outputs": [
    {
     "data": {
      "text/plain": [
       "Text(0.5, 1.0, 'Home Runs, 2015-2017')"
      ]
     },
     "execution_count": 80,
     "metadata": {},
     "output_type": "execute_result"
    },
    {
     "data": {
      "image/png": "[encoded data removed]",
      "text/plain": [
       "<Figure size 432x288 with 1 Axes>"
      ]
     },
     "metadata": {
      "needs_background": "light"
     },
     "output_type": "display_data"
    }
   ],
   "source": [
    "# Combine the Ryu and max field_out DataFrames for easy boxplot plotting\n",
    "ryu_sherzer_field_out = pd.concat([ryu_field_out, sherzer_field_out])\n",
    "\n",
    "# Create a boxplot that describes the pitch release_speed of each player's field_out\n",
    "sns.boxplot(y='release_speed', x='player_name', data=ryu_sherzer_field_out, color='tab:red').set_title('Home Runs, 2015-2017')"
   ]
  },
  {
   "cell_type": "markdown",
   "metadata": {},
   "source": [
    "### Field_out by pitch location (I)"
   ]
  },
  {
   "cell_type": "code",
   "execution_count": 81,
   "metadata": {},
   "outputs": [],
   "source": [
    "def assign_x_coord(row):\n",
    "    \"\"\"\n",
    "    Assigns an x-coordinate to Statcast's strike zone numbers. Zones 11, 12, 13,\n",
    "    and 14 are ignored for plotting simplicity.\n",
    "    \"\"\"\n",
    "    # Left third of strike zone\n",
    "    if row.zone in [1, 4, 7]:\n",
    "        return 1\n",
    "    # Middle third of strike zone\n",
    "    if row.zone in [2, 5, 8]:\n",
    "        return 2\n",
    "    # Right third of strike zone\n",
    "    if row.zone in [3, 6, 9]:\n",
    "        return 3"
   ]
  },
  {
   "cell_type": "code",
   "execution_count": 82,
   "metadata": {},
   "outputs": [],
   "source": [
    "def assign_y_coord(row):\n",
    "    \"\"\"\n",
    "    Assigns a y-coordinate to Statcast's strike zone numbers. Zones 11, 12, 13,\n",
    "    and 14 are ignored for plotting simplicity.\n",
    "    \"\"\"\n",
    "    # Upper third of strike zone\n",
    "    if row.zone in [1, 2, 3]:\n",
    "        return 3\n",
    "    # Middle third of strike zone\n",
    "    if row.zone in [4, 5, 6]:\n",
    "        return 2\n",
    "    # Lower third of strike zone\n",
    "    if row.zone in [7, 8, 9]:\n",
    "        return 1"
   ]
  },
  {
   "cell_type": "markdown",
   "metadata": {},
   "source": [
    "### Hyunjin Ryu's field_out zone"
   ]
  },
  {
   "cell_type": "code",
   "execution_count": 83,
   "metadata": {},
   "outputs": [
    {
     "data": {
      "image/png": "[encoded data removed]",
      "text/plain": [
       "<Figure size 432x288 with 2 Axes>"
      ]
     },
     "metadata": {
      "needs_background": "light"
     },
     "output_type": "display_data"
    }
   ],
   "source": [
    "# Zones 11, 12, 13, and 14 are to be ignored for plotting simplicity\n",
    "ryu_strike_field_out = ryu_field_out.copy().loc[ryu_field_out.zone <= 9]\n",
    "\n",
    "# Assign Cartesian coordinates to pitches in the strike zone for ryu's field_out\n",
    "ryu_strike_field_out['zone_x'] = ryu_strike_field_out.apply(assign_x_coord, axis=1)\n",
    "ryu_strike_field_out['zone_y'] = ryu_strike_field_out.apply(assign_y_coord, axis=1)\n",
    "\n",
    "# Plot Ryu's field_out zone as a 2D histogram with a colorbar\n",
    "plt.hist2d(ryu_strike_field_out['zone_x'],ryu_strike_field_out['zone_y'], bins=3, cmap='Reds')\n",
    "plt.title('Hyunjin Ryu field_out on\\n Pitches in the Strike Zone, 2019')\n",
    "plt.gca().get_xaxis().set_visible(False)\n",
    "plt.gca().get_yaxis().set_visible(False)\n",
    "cb = plt.colorbar()\n",
    "cb.set_label('Counts in Bin')"
   ]
  },
  {
   "cell_type": "markdown",
   "metadata": {},
   "source": [
    "### Max Sherzer's field_out  zone"
   ]
  },
  {
   "cell_type": "code",
   "execution_count": 84,
   "metadata": {},
   "outputs": [
    {
     "data": {
      "image/png": "[encoded data removed]",
      "text/plain": [
       "<Figure size 432x288 with 2 Axes>"
      ]
     },
     "metadata": {
      "needs_background": "light"
     },
     "output_type": "display_data"
    }
   ],
   "source": [
    "# Zones 11, 12, 13, and 14 are to be ignored for plotting simplicity\n",
    "sherzer_strike_field_out = sherzer_field_out.copy().loc[sherzer_field_out.zone <= 9]\n",
    "\n",
    "# Assign Cartesian coordinates to pitches in the strike zone for sherzer's field_out zone\n",
    "sherzer_strike_field_out['zone_x'] = sherzer_strike_field_out.apply(assign_x_coord, axis=1)\n",
    "sherzer_strike_field_out['zone_y'] = sherzer_strike_field_out.apply(assign_y_coord, axis=1)\n",
    "\n",
    "# Plot sherzer's field_out zone as a 2D histogram with a colorbar\n",
    "plt.hist2d(sherzer_strike_field_out['zone_x'],sherzer_strike_field_out['zone_y'], bins=3, cmap='Reds')\n",
    "plt.title('Max Sherzer field_out on\\n Pitches in the Strike Zone, 2019')\n",
    "plt.gca().get_xaxis().set_visible(False)\n",
    "plt.gca().get_yaxis().set_visible(False)\n",
    "cb = plt.colorbar()\n",
    "cb.set_label('Counts in Bin')"
   ]
  },
  {
   "cell_type": "code",
   "execution_count": null,
   "metadata": {},
   "outputs": [],
   "source": []
  },
  {
   "cell_type": "code",
   "execution_count": null,
   "metadata": {},
   "outputs": [],
   "source": []
  },
  {
   "cell_type": "code",
   "execution_count": null,
   "metadata": {},
   "outputs": [],
   "source": []
  },
  {
   "cell_type": "code",
   "execution_count": null,
   "metadata": {},
   "outputs": [],
   "source": []
  }
 ],
 "metadata": {
  "kernelspec": {
   "display_name": "Python 3",
   "language": "python",
   "name": "python3"
  },
  "language_info": {
   "codemirror_mode": {
    "name": "ipython",
    "version": 3
   },
   "file_extension": ".py",
   "mimetype": "text/x-python",
   "name": "python",
   "nbconvert_exporter": "python",
   "pygments_lexer": "ipython3",
   "version": "3.7.2"
  }
 },
 "nbformat": 4,
 "nbformat_minor": 2
}
